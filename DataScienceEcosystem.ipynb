{
 "cells": [
  {
   "cell_type": "markdown",
   "id": "f6d97dcb-8a7e-42d8-9264-fd0015aca922",
   "metadata": {},
   "source": [
    "# Data Science Tools and Ecosystem"
   ]
  },
  {
   "cell_type": "markdown",
   "id": "eb2b4efa-e272-4bff-9e7d-9533e9e64373",
   "metadata": {},
   "source": [
    "In this notebook, Data Science Tools and Ecosystem are summarized."
   ]
  },
  {
   "cell_type": "markdown",
   "id": "183e92c7-0250-41e3-ad85-5583a31a167f",
   "metadata": {},
   "source": [
    "## Author\n",
    "Lucas Leonel Siqueira"
   ]
  },
  {
   "cell_type": "markdown",
   "id": "63a049f3-0b3d-4416-b37b-90740c52bade",
   "metadata": {},
   "source": [
    "**Objetives:**\n",
    "- List popular languages for Data Science\n",
    "- List commonly used Data Science libraries\n",
    "- Insert a table of Data Science tools\n",
    "- Examples of evaluating arithmetic expressions in Python\n",
    "- Use of Markdown cells with Headers, Tables and Lists"
   ]
  },
  {
   "cell_type": "markdown",
   "id": "ce42deb6-6e18-4bcd-bbd6-fe2628f3b57a",
   "metadata": {},
   "source": [
    "Some of the popular languages that Data Scientists use are:\n",
    "1. **Python**\n",
    "2. **R**\n",
    "3. **SQL**\n",
    "4. **Java**\n",
    "5. **Julia**\n",
    "6. **Scala**\n",
    "7. **C++**\n",
    "8. **JavaScript**"
   ]
  },
  {
   "cell_type": "markdown",
   "id": "651fac72-4674-46ad-8957-dece7116511c",
   "metadata": {},
   "source": [
    "Some of the commonly used libraries used by Data Scientists include:\n",
    "1. **Pandas** (Data sctruture and tools)\n",
    "2. **NumPy** (Array & Matrixes)\n",
    "3. **Matplotlib** (Plots & Graphs)\n",
    "4. **Seaborn** (Plots: Heat maps, time series, violin plots)\n",
    "5. **Scikit-learn** (Machine Learning: regression, classification, clustering)\n",
    "6. **Keras** (Deep Learning Neural Networks)\n",
    "7.  **TensorFlow** (Deep Learning: Production and Deployment)\n",
    "8.  **Pytorch** (Deep  Learning: regression, classification)"
   ]
  },
  {
   "cell_type": "markdown",
   "id": "071c77b1-f8e7-4660-9a23-f173702148c0",
   "metadata": {},
   "source": [
    "|Data Science Tools|\n",
    "|------------------|\n",
    "|Jupyter Lab|\n",
    "|Jupyter Notebooks|\n",
    "|R Studio|\n",
    "|Apache Zeppelin| \n",
    "|Spyder| "
   ]
  },
  {
   "cell_type": "markdown",
   "id": "c3d65ef1-4614-419b-8980-22e0829a776e",
   "metadata": {},
   "source": [
    "### Below are a few examples of evaluating arithmetic expressions in Python:"
   ]
  },
  {
   "cell_type": "code",
   "execution_count": 3,
   "id": "f6b5c750-285a-4f9b-b75b-3fc1c52926f1",
   "metadata": {},
   "outputs": [
    {
     "data": {
      "text/plain": [
       "17"
      ]
     },
     "execution_count": 3,
     "metadata": {},
     "output_type": "execute_result"
    }
   ],
   "source": [
    "# This a simple arithmetic expression to mutiply then add integers\n",
    "(3*4)+5"
   ]
  },
  {
   "cell_type": "code",
   "execution_count": 6,
   "id": "3055e9d2-a35e-4640-8ff8-12f99231b608",
   "metadata": {},
   "outputs": [
    {
     "data": {
      "text/plain": [
       "3.3333333333333335"
      ]
     },
     "execution_count": 6,
     "metadata": {},
     "output_type": "execute_result"
    }
   ],
   "source": [
    "# This will convert 200 minutes to hours by diving by 60\n",
    "200 / 60"
   ]
  }
 ],
 "metadata": {
  "kernelspec": {
   "display_name": "Python 3 (ipykernel)",
   "language": "python",
   "name": "python3"
  },
  "language_info": {
   "codemirror_mode": {
    "name": "ipython",
    "version": 3
   },
   "file_extension": ".py",
   "mimetype": "text/x-python",
   "name": "python",
   "nbconvert_exporter": "python",
   "pygments_lexer": "ipython3",
   "version": "3.12.8"
  }
 },
 "nbformat": 4,
 "nbformat_minor": 5
}
